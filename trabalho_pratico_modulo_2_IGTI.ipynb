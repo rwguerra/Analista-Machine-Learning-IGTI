{
  "nbformat": 4,
  "nbformat_minor": 0,
  "metadata": {
    "colab": {
      "name": "trabalho_pratico_modulo_2_IGTI.ipynb",
      "provenance": [],
      "collapsed_sections": [],
      "authorship_tag": "ABX9TyPVrvNKpsJPbs9ajXHih7mf",
      "include_colab_link": true
    },
    "kernelspec": {
      "name": "python3",
      "display_name": "Python 3"
    }
  },
  "cells": [
    {
      "cell_type": "markdown",
      "metadata": {
        "id": "view-in-github",
        "colab_type": "text"
      },
      "source": [
        "<a href=\"https://colab.research.google.com/github/rwguerra/Analista-Machine-Learning-IGTI/blob/main/trabalho_pratico_modulo_2_IGTI.ipynb\" target=\"_parent\"><img src=\"https://colab.research.google.com/assets/colab-badge.svg\" alt=\"Open In Colab\"/></a>"
      ]
    },
    {
      "cell_type": "markdown",
      "metadata": {
        "id": "Uv_XcdKKcnU5"
      },
      "source": [
        "**Trabalho Prático do Módulo 2 do Bootcamp Analista Machine Learning IGTI**"
      ]
    },
    {
      "cell_type": "code",
      "metadata": {
        "id": "xEQHInLtb-Ew"
      },
      "source": [
        "## Importando os módulos básicos que utilizaremos\n",
        "import pandas as pd\n",
        "import numpy as np"
      ],
      "execution_count": null,
      "outputs": []
    },
    {
      "cell_type": "markdown",
      "metadata": {
        "id": "L_h7D5UPcik6"
      },
      "source": [
        "Neste trabalho iremos utilizar um *dataset* sobre alugueis de bicicletas por hora."
      ]
    },
    {
      "cell_type": "code",
      "metadata": {
        "id": "oPNy13G-cP5t",
        "outputId": "24975806-ae70-46b7-8d68-09f14736c7ea",
        "colab": {
          "base_uri": "https://localhost:8080/",
          "height": 195
        }
      },
      "source": [
        "## carregamos o dataset para um dataframe pandas\n",
        "df_bike = pd.read_csv('https://pycourse.s3.amazonaws.com/bike-sharing.csv')\n",
        "df_bike.head() #print as 5 primeiras linhas do dataframe"
      ],
      "execution_count": null,
      "outputs": [
        {
          "output_type": "execute_result",
          "data": {
            "text/html": [
              "<div>\n",
              "<style scoped>\n",
              "    .dataframe tbody tr th:only-of-type {\n",
              "        vertical-align: middle;\n",
              "    }\n",
              "\n",
              "    .dataframe tbody tr th {\n",
              "        vertical-align: top;\n",
              "    }\n",
              "\n",
              "    .dataframe thead th {\n",
              "        text-align: right;\n",
              "    }\n",
              "</style>\n",
              "<table border=\"1\" class=\"dataframe\">\n",
              "  <thead>\n",
              "    <tr style=\"text-align: right;\">\n",
              "      <th></th>\n",
              "      <th>datetime</th>\n",
              "      <th>rec_id</th>\n",
              "      <th>season</th>\n",
              "      <th>year</th>\n",
              "      <th>month</th>\n",
              "      <th>hour</th>\n",
              "      <th>is_holiday</th>\n",
              "      <th>weekday</th>\n",
              "      <th>is_workingday</th>\n",
              "      <th>weather_condition</th>\n",
              "      <th>temp</th>\n",
              "      <th>atemp</th>\n",
              "      <th>humidity</th>\n",
              "      <th>windspeed</th>\n",
              "      <th>casual</th>\n",
              "      <th>registered</th>\n",
              "      <th>total_count</th>\n",
              "    </tr>\n",
              "  </thead>\n",
              "  <tbody>\n",
              "    <tr>\n",
              "      <th>0</th>\n",
              "      <td>2011-01-01</td>\n",
              "      <td>1</td>\n",
              "      <td>1</td>\n",
              "      <td>0</td>\n",
              "      <td>1</td>\n",
              "      <td>0</td>\n",
              "      <td>0</td>\n",
              "      <td>6</td>\n",
              "      <td>0</td>\n",
              "      <td>1</td>\n",
              "      <td>0.24</td>\n",
              "      <td>0.2879</td>\n",
              "      <td>0.81</td>\n",
              "      <td>0.0</td>\n",
              "      <td>3</td>\n",
              "      <td>13</td>\n",
              "      <td>16</td>\n",
              "    </tr>\n",
              "    <tr>\n",
              "      <th>1</th>\n",
              "      <td>2011-01-01</td>\n",
              "      <td>2</td>\n",
              "      <td>1</td>\n",
              "      <td>0</td>\n",
              "      <td>1</td>\n",
              "      <td>1</td>\n",
              "      <td>0</td>\n",
              "      <td>6</td>\n",
              "      <td>0</td>\n",
              "      <td>1</td>\n",
              "      <td>0.22</td>\n",
              "      <td>0.2727</td>\n",
              "      <td>0.80</td>\n",
              "      <td>0.0</td>\n",
              "      <td>8</td>\n",
              "      <td>32</td>\n",
              "      <td>40</td>\n",
              "    </tr>\n",
              "    <tr>\n",
              "      <th>2</th>\n",
              "      <td>2011-01-01</td>\n",
              "      <td>3</td>\n",
              "      <td>1</td>\n",
              "      <td>0</td>\n",
              "      <td>1</td>\n",
              "      <td>2</td>\n",
              "      <td>0</td>\n",
              "      <td>6</td>\n",
              "      <td>0</td>\n",
              "      <td>1</td>\n",
              "      <td>0.22</td>\n",
              "      <td>0.2727</td>\n",
              "      <td>0.80</td>\n",
              "      <td>0.0</td>\n",
              "      <td>5</td>\n",
              "      <td>27</td>\n",
              "      <td>32</td>\n",
              "    </tr>\n",
              "    <tr>\n",
              "      <th>3</th>\n",
              "      <td>2011-01-01</td>\n",
              "      <td>4</td>\n",
              "      <td>1</td>\n",
              "      <td>0</td>\n",
              "      <td>1</td>\n",
              "      <td>3</td>\n",
              "      <td>0</td>\n",
              "      <td>6</td>\n",
              "      <td>0</td>\n",
              "      <td>1</td>\n",
              "      <td>0.24</td>\n",
              "      <td>0.2879</td>\n",
              "      <td>0.75</td>\n",
              "      <td>0.0</td>\n",
              "      <td>3</td>\n",
              "      <td>10</td>\n",
              "      <td>13</td>\n",
              "    </tr>\n",
              "    <tr>\n",
              "      <th>4</th>\n",
              "      <td>2011-01-01</td>\n",
              "      <td>5</td>\n",
              "      <td>1</td>\n",
              "      <td>0</td>\n",
              "      <td>1</td>\n",
              "      <td>4</td>\n",
              "      <td>0</td>\n",
              "      <td>6</td>\n",
              "      <td>0</td>\n",
              "      <td>1</td>\n",
              "      <td>0.24</td>\n",
              "      <td>0.2879</td>\n",
              "      <td>0.75</td>\n",
              "      <td>0.0</td>\n",
              "      <td>0</td>\n",
              "      <td>1</td>\n",
              "      <td>1</td>\n",
              "    </tr>\n",
              "  </tbody>\n",
              "</table>\n",
              "</div>"
            ],
            "text/plain": [
              "     datetime  rec_id  season  year  ...  windspeed  casual  registered  total_count\n",
              "0  2011-01-01       1       1     0  ...        0.0       3          13           16\n",
              "1  2011-01-01       2       1     0  ...        0.0       8          32           40\n",
              "2  2011-01-01       3       1     0  ...        0.0       5          27           32\n",
              "3  2011-01-01       4       1     0  ...        0.0       3          10           13\n",
              "4  2011-01-01       5       1     0  ...        0.0       0           1            1\n",
              "\n",
              "[5 rows x 17 columns]"
            ]
          },
          "metadata": {
            "tags": []
          },
          "execution_count": 74
        }
      ]
    },
    {
      "cell_type": "markdown",
      "metadata": {
        "id": "CcVn9LO3cMCn"
      },
      "source": [
        "**Questão 1 - Qual o tamanho desse dataset (número de linhas, número de colunas)?**\n",
        "R: 17379 linhas e 17 colunas"
      ]
    },
    {
      "cell_type": "code",
      "metadata": {
        "id": "YhMtE-UqcF_9",
        "outputId": "21a64d4c-9a4a-4f17-b1f7-adfaea2dcd98",
        "colab": {
          "base_uri": "https://localhost:8080/",
          "height": 34
        }
      },
      "source": [
        "df_bike.shape #propriedade que retorna a forma do dataframe em (linhas,colunas)"
      ],
      "execution_count": null,
      "outputs": [
        {
          "output_type": "execute_result",
          "data": {
            "text/plain": [
              "(17379, 17)"
            ]
          },
          "metadata": {
            "tags": []
          },
          "execution_count": 12
        }
      ]
    },
    {
      "cell_type": "markdown",
      "metadata": {
        "id": "9nYBfrUEcKnC"
      },
      "source": [
        "**Questão 2 - Qual a média da coluna windspeed?**\n",
        "R: 0.1900976063064631"
      ]
    },
    {
      "cell_type": "code",
      "metadata": {
        "id": "Nyc-MyHeibsK",
        "outputId": "ae5d689f-557a-4ccc-a036-1d2c8b7811d3",
        "colab": {
          "base_uri": "https://localhost:8080/",
          "height": 34
        }
      },
      "source": [
        "df_bike.windspeed.mean() #método que retorna a média da coluna windspeed"
      ],
      "execution_count": null,
      "outputs": [
        {
          "output_type": "execute_result",
          "data": {
            "text/plain": [
              "0.1900976063064631"
            ]
          },
          "metadata": {
            "tags": []
          },
          "execution_count": 13
        }
      ]
    },
    {
      "cell_type": "markdown",
      "metadata": {
        "id": "zc43QzP0iy-P"
      },
      "source": [
        "**Questão 3 - Qual a média da coluna temp?** R: 0.4969871684216586\n"
      ]
    },
    {
      "cell_type": "code",
      "metadata": {
        "id": "SlqlB4ayi4G1",
        "outputId": "685693d0-72ce-4d32-c972-3f48fe42b910",
        "colab": {
          "base_uri": "https://localhost:8080/",
          "height": 34
        }
      },
      "source": [
        "df_bike.temp.mean() #método que retorna a média da coluna temp"
      ],
      "execution_count": null,
      "outputs": [
        {
          "output_type": "execute_result",
          "data": {
            "text/plain": [
              "0.4969871684216586"
            ]
          },
          "metadata": {
            "tags": []
          },
          "execution_count": 14
        }
      ]
    },
    {
      "cell_type": "markdown",
      "metadata": {
        "id": "cX_PNjW5jE4Y"
      },
      "source": [
        "**Questão 4 - Quantos registros de locações existem para o ano de 2011 (número de linhas, número de colunas)?** R: (8645, 17)"
      ]
    },
    {
      "cell_type": "code",
      "metadata": {
        "id": "je4t2R_8lE2P",
        "outputId": "1f6e88d3-3397-489d-8fbe-3627715f693f",
        "colab": {
          "base_uri": "https://localhost:8080/",
          "height": 420
        }
      },
      "source": [
        "## Já vimos lá em cima que a coluna datetime contem as datas das locacoes, agora precisamos saber qual o tipo de dados temos nessa coluna\n",
        "df_bike.info()"
      ],
      "execution_count": null,
      "outputs": [
        {
          "output_type": "stream",
          "text": [
            "<class 'pandas.core.frame.DataFrame'>\n",
            "RangeIndex: 17379 entries, 0 to 17378\n",
            "Data columns (total 17 columns):\n",
            " #   Column             Non-Null Count  Dtype  \n",
            "---  ------             --------------  -----  \n",
            " 0   datetime           17379 non-null  object \n",
            " 1   rec_id             17379 non-null  int64  \n",
            " 2   season             17379 non-null  int64  \n",
            " 3   year               17379 non-null  int64  \n",
            " 4   month              17379 non-null  int64  \n",
            " 5   hour               17379 non-null  int64  \n",
            " 6   is_holiday         17379 non-null  int64  \n",
            " 7   weekday            17379 non-null  int64  \n",
            " 8   is_workingday      17379 non-null  int64  \n",
            " 9   weather_condition  17379 non-null  int64  \n",
            " 10  temp               17379 non-null  float64\n",
            " 11  atemp              17379 non-null  float64\n",
            " 12  humidity           17379 non-null  float64\n",
            " 13  windspeed          17379 non-null  float64\n",
            " 14  casual             17379 non-null  int64  \n",
            " 15  registered         17379 non-null  int64  \n",
            " 16  total_count        17379 non-null  int64  \n",
            "dtypes: float64(4), int64(12), object(1)\n",
            "memory usage: 2.3+ MB\n"
          ],
          "name": "stdout"
        }
      ]
    },
    {
      "cell_type": "code",
      "metadata": {
        "id": "24jcyJe8lYrT",
        "outputId": "155ec431-633f-43e0-b6cf-94ba3ee03a43",
        "colab": {
          "base_uri": "https://localhost:8080/",
          "height": 34
        }
      },
      "source": [
        "# podemos perceber que a coluna (feature) datetime é do tipo object, ou seja, podemos afirmar que é do tipo categorica e não numeral\n",
        "# agora vamos checar um dos itens para saber que tipo é:\n",
        "type(df_bike.datetime[1])"
      ],
      "execution_count": null,
      "outputs": [
        {
          "output_type": "execute_result",
          "data": {
            "text/plain": [
              "str"
            ]
          },
          "metadata": {
            "tags": []
          },
          "execution_count": 53
        }
      ]
    },
    {
      "cell_type": "code",
      "metadata": {
        "id": "JEj_6r9cjH-k"
      },
      "source": [
        "# sabemos que a coluna contem apenas strings, ou seja, texto.... sabendo que esse texto tem formato de data, poderemos usar um método do pandas\n",
        "#para transformar essa coluna em data.\n",
        "df_bike.datetime = pd.to_datetime(df_bike.datetime) #converte a coluna datetime para o tipo datetime (antes era tipo string)"
      ],
      "execution_count": null,
      "outputs": []
    },
    {
      "cell_type": "code",
      "metadata": {
        "id": "VQdjZlCdmAmJ",
        "outputId": "97afb902-8ea6-4527-beed-cba5132df838",
        "colab": {
          "base_uri": "https://localhost:8080/",
          "height": 34
        }
      },
      "source": [
        "# agora poderemos selecionar quantos registros de locações existem para o ano de 2011 (número de linhas, número de colunas)\n",
        "df_bike[df_bike.datetime.dt.year == 2011].shape # aqui eu peguei o dataframe, e filtrei pela coluna datetime, onde o ano (dt.year) é igual a 2011 e usei .shape para saber a forma"
      ],
      "execution_count": null,
      "outputs": [
        {
          "output_type": "execute_result",
          "data": {
            "text/plain": [
              "(8645, 17)"
            ]
          },
          "metadata": {
            "tags": []
          },
          "execution_count": 55
        }
      ]
    },
    {
      "cell_type": "markdown",
      "metadata": {
        "id": "yQE49cWenBNj"
      },
      "source": [
        "**Questão 5 - Quantos registros de locações existem para o ano de 2012 (número de linhas, número de colunas)?** R: (8734, 17)\n"
      ]
    },
    {
      "cell_type": "code",
      "metadata": {
        "id": "Tzthr7ZWnJdz",
        "outputId": "9b14128b-8d40-45e1-9998-09be29e86200",
        "colab": {
          "base_uri": "https://localhost:8080/",
          "height": 34
        }
      },
      "source": [
        "df_bike[df_bike.datetime.dt.year == 2012].shape # mesma coisa da questão anterior, mudando apenas o ano!"
      ],
      "execution_count": null,
      "outputs": [
        {
          "output_type": "execute_result",
          "data": {
            "text/plain": [
              "(8734, 17)"
            ]
          },
          "metadata": {
            "tags": []
          },
          "execution_count": 56
        }
      ]
    },
    {
      "cell_type": "markdown",
      "metadata": {
        "id": "faHtWTjXnTfj"
      },
      "source": [
        "**Questão 6 - Quantas locações de bicicletas foram efetuadas em 2011?** R: 1.243.103"
      ]
    },
    {
      "cell_type": "code",
      "metadata": {
        "id": "5Rq-l0j8nepA",
        "outputId": "3961aa77-da09-4f08-ae30-bb7cbb1af96f",
        "colab": {
          "base_uri": "https://localhost:8080/",
          "height": 34
        }
      },
      "source": [
        "# Vamos aproveitar o código anterior com algumas pequenas modificações\n",
        "df_bike[df_bike.datetime.dt.year == 2011].total_count.sum() #veja que em vez de pegar o shape, selecionamos a coluna total_count e fizemos a soma dos valores"
      ],
      "execution_count": null,
      "outputs": [
        {
          "output_type": "execute_result",
          "data": {
            "text/plain": [
              "1243103"
            ]
          },
          "metadata": {
            "tags": []
          },
          "execution_count": 59
        }
      ]
    },
    {
      "cell_type": "markdown",
      "metadata": {
        "id": "MxT0qOLDpGoV"
      },
      "source": [
        "**Questão 7 - Quantas locações de bicicletas foram efetuadas em 2012?** R: 2.049.576"
      ]
    },
    {
      "cell_type": "code",
      "metadata": {
        "id": "QiTnNy7NpFRK",
        "outputId": "a330d4b1-264e-4749-89a7-3359d3406075",
        "colab": {
          "base_uri": "https://localhost:8080/",
          "height": 34
        }
      },
      "source": [
        "df_bike[df_bike.datetime.dt.year == 2012].total_count.sum() # mudando apenas o ano...."
      ],
      "execution_count": null,
      "outputs": [
        {
          "output_type": "execute_result",
          "data": {
            "text/plain": [
              "2049576"
            ]
          },
          "metadata": {
            "tags": []
          },
          "execution_count": 60
        }
      ]
    },
    {
      "cell_type": "markdown",
      "metadata": {
        "id": "rgztezyipWQa"
      },
      "source": [
        "**Questão 8 - Qual estação do ano contém a maior média de locações de bicicletas?** R: estação 3\n",
        "\n",
        "**Questão 9 - Qual estação do ano contém a menor média de locações de bicicletas?** R: estação 1"
      ]
    },
    {
      "cell_type": "code",
      "metadata": {
        "id": "POiKFUKeqhp5",
        "outputId": "b0eeeee2-94c0-4a6c-e165-170a00db007a",
        "colab": {
          "base_uri": "https://localhost:8080/",
          "height": 199
        }
      },
      "source": [
        "# vamos utilizar um método do pandas chamado grupby para agrupar a coluna season pela média da coluna total_count.\n",
        "# a parte do reset_index é para adicionar a coluna média e adicionar as médias para esta coluna\n",
        "df_media_season = df_bike.groupby(['season']).total_count.mean().reset_index(name='Media')\n",
        "display(df_media_season)#funcao do notebook para \"printar\" o dataframe bonitinho\n",
        "\n",
        "# apenas arranjos para fazer um print da maior e menor média\n",
        "print(f'Maior média é a season {df_media_season[df_media_season.Media==df_media_season.Media.max()].season.iloc[0]}') \n",
        "print(f'Menor média é a season {df_media_season[df_media_season.Media==df_media_season.Media.min()].season.iloc[0]}')"
      ],
      "execution_count": null,
      "outputs": [
        {
          "output_type": "display_data",
          "data": {
            "text/html": [
              "<div>\n",
              "<style scoped>\n",
              "    .dataframe tbody tr th:only-of-type {\n",
              "        vertical-align: middle;\n",
              "    }\n",
              "\n",
              "    .dataframe tbody tr th {\n",
              "        vertical-align: top;\n",
              "    }\n",
              "\n",
              "    .dataframe thead th {\n",
              "        text-align: right;\n",
              "    }\n",
              "</style>\n",
              "<table border=\"1\" class=\"dataframe\">\n",
              "  <thead>\n",
              "    <tr style=\"text-align: right;\">\n",
              "      <th></th>\n",
              "      <th>season</th>\n",
              "      <th>Media</th>\n",
              "    </tr>\n",
              "  </thead>\n",
              "  <tbody>\n",
              "    <tr>\n",
              "      <th>0</th>\n",
              "      <td>1</td>\n",
              "      <td>111.114569</td>\n",
              "    </tr>\n",
              "    <tr>\n",
              "      <th>1</th>\n",
              "      <td>2</td>\n",
              "      <td>208.344069</td>\n",
              "    </tr>\n",
              "    <tr>\n",
              "      <th>2</th>\n",
              "      <td>3</td>\n",
              "      <td>236.016237</td>\n",
              "    </tr>\n",
              "    <tr>\n",
              "      <th>3</th>\n",
              "      <td>4</td>\n",
              "      <td>198.868856</td>\n",
              "    </tr>\n",
              "  </tbody>\n",
              "</table>\n",
              "</div>"
            ],
            "text/plain": [
              "   season       Media\n",
              "0       1  111.114569\n",
              "1       2  208.344069\n",
              "2       3  236.016237\n",
              "3       4  198.868856"
            ]
          },
          "metadata": {
            "tags": []
          }
        },
        {
          "output_type": "stream",
          "text": [
            "Maior média é a season 3\n",
            "Menor média é a season 1\n"
          ],
          "name": "stdout"
        }
      ]
    },
    {
      "cell_type": "markdown",
      "metadata": {
        "id": "b5RqLl64sLwY"
      },
      "source": [
        "**Questão 10 - Qual horário do dia contém a maior média de locações de bicicletas?** R: 17\n",
        "\n",
        "**Questão 11 - Qual horário do dia contém a menor média de locações de bicicletas?** R: 4"
      ]
    },
    {
      "cell_type": "code",
      "metadata": {
        "id": "c_b6PeIOpb9C",
        "outputId": "abfec709-d73a-4568-bee2-e47fd8f1074b",
        "colab": {
          "base_uri": "https://localhost:8080/",
          "height": 791
        }
      },
      "source": [
        "# podemos utilizar o groupby para agrupar a coluna de horas do dia e saber a média de locacoes\n",
        "df_media_hora = df_bike.groupby(['hour']).total_count.mean().reset_index(name='Media')\n",
        "\n",
        "print(f'Maior média é as {df_media_hora[df_media_hora.Media==df_media_hora.Media.max()].hour.iloc[0]} horas')\n",
        "print(f'Menor média é as {df_media_hora[df_media_hora.Media==df_media_hora.Media.min()].hour.iloc[0]} horas')\n",
        "display(df_media_hora) #funcao do notebook para \"printar\" o dataframe bonitinho"
      ],
      "execution_count": null,
      "outputs": [
        {
          "output_type": "stream",
          "text": [
            "Maior média é as 17 horas\n",
            "Menor média é as 4 horas\n"
          ],
          "name": "stdout"
        },
        {
          "output_type": "display_data",
          "data": {
            "text/html": [
              "<div>\n",
              "<style scoped>\n",
              "    .dataframe tbody tr th:only-of-type {\n",
              "        vertical-align: middle;\n",
              "    }\n",
              "\n",
              "    .dataframe tbody tr th {\n",
              "        vertical-align: top;\n",
              "    }\n",
              "\n",
              "    .dataframe thead th {\n",
              "        text-align: right;\n",
              "    }\n",
              "</style>\n",
              "<table border=\"1\" class=\"dataframe\">\n",
              "  <thead>\n",
              "    <tr style=\"text-align: right;\">\n",
              "      <th></th>\n",
              "      <th>hour</th>\n",
              "      <th>Media</th>\n",
              "    </tr>\n",
              "  </thead>\n",
              "  <tbody>\n",
              "    <tr>\n",
              "      <th>0</th>\n",
              "      <td>0</td>\n",
              "      <td>53.898072</td>\n",
              "    </tr>\n",
              "    <tr>\n",
              "      <th>1</th>\n",
              "      <td>1</td>\n",
              "      <td>33.375691</td>\n",
              "    </tr>\n",
              "    <tr>\n",
              "      <th>2</th>\n",
              "      <td>2</td>\n",
              "      <td>22.869930</td>\n",
              "    </tr>\n",
              "    <tr>\n",
              "      <th>3</th>\n",
              "      <td>3</td>\n",
              "      <td>11.727403</td>\n",
              "    </tr>\n",
              "    <tr>\n",
              "      <th>4</th>\n",
              "      <td>4</td>\n",
              "      <td>6.352941</td>\n",
              "    </tr>\n",
              "    <tr>\n",
              "      <th>5</th>\n",
              "      <td>5</td>\n",
              "      <td>19.889819</td>\n",
              "    </tr>\n",
              "    <tr>\n",
              "      <th>6</th>\n",
              "      <td>6</td>\n",
              "      <td>76.044138</td>\n",
              "    </tr>\n",
              "    <tr>\n",
              "      <th>7</th>\n",
              "      <td>7</td>\n",
              "      <td>212.064649</td>\n",
              "    </tr>\n",
              "    <tr>\n",
              "      <th>8</th>\n",
              "      <td>8</td>\n",
              "      <td>359.011004</td>\n",
              "    </tr>\n",
              "    <tr>\n",
              "      <th>9</th>\n",
              "      <td>9</td>\n",
              "      <td>219.309491</td>\n",
              "    </tr>\n",
              "    <tr>\n",
              "      <th>10</th>\n",
              "      <td>10</td>\n",
              "      <td>173.668501</td>\n",
              "    </tr>\n",
              "    <tr>\n",
              "      <th>11</th>\n",
              "      <td>11</td>\n",
              "      <td>208.143054</td>\n",
              "    </tr>\n",
              "    <tr>\n",
              "      <th>12</th>\n",
              "      <td>12</td>\n",
              "      <td>253.315934</td>\n",
              "    </tr>\n",
              "    <tr>\n",
              "      <th>13</th>\n",
              "      <td>13</td>\n",
              "      <td>253.661180</td>\n",
              "    </tr>\n",
              "    <tr>\n",
              "      <th>14</th>\n",
              "      <td>14</td>\n",
              "      <td>240.949246</td>\n",
              "    </tr>\n",
              "    <tr>\n",
              "      <th>15</th>\n",
              "      <td>15</td>\n",
              "      <td>251.233196</td>\n",
              "    </tr>\n",
              "    <tr>\n",
              "      <th>16</th>\n",
              "      <td>16</td>\n",
              "      <td>311.983562</td>\n",
              "    </tr>\n",
              "    <tr>\n",
              "      <th>17</th>\n",
              "      <td>17</td>\n",
              "      <td>461.452055</td>\n",
              "    </tr>\n",
              "    <tr>\n",
              "      <th>18</th>\n",
              "      <td>18</td>\n",
              "      <td>425.510989</td>\n",
              "    </tr>\n",
              "    <tr>\n",
              "      <th>19</th>\n",
              "      <td>19</td>\n",
              "      <td>311.523352</td>\n",
              "    </tr>\n",
              "    <tr>\n",
              "      <th>20</th>\n",
              "      <td>20</td>\n",
              "      <td>226.030220</td>\n",
              "    </tr>\n",
              "    <tr>\n",
              "      <th>21</th>\n",
              "      <td>21</td>\n",
              "      <td>172.314560</td>\n",
              "    </tr>\n",
              "    <tr>\n",
              "      <th>22</th>\n",
              "      <td>22</td>\n",
              "      <td>131.335165</td>\n",
              "    </tr>\n",
              "    <tr>\n",
              "      <th>23</th>\n",
              "      <td>23</td>\n",
              "      <td>87.831044</td>\n",
              "    </tr>\n",
              "  </tbody>\n",
              "</table>\n",
              "</div>"
            ],
            "text/plain": [
              "    hour       Media\n",
              "0      0   53.898072\n",
              "1      1   33.375691\n",
              "2      2   22.869930\n",
              "3      3   11.727403\n",
              "4      4    6.352941\n",
              "5      5   19.889819\n",
              "6      6   76.044138\n",
              "7      7  212.064649\n",
              "8      8  359.011004\n",
              "9      9  219.309491\n",
              "10    10  173.668501\n",
              "11    11  208.143054\n",
              "12    12  253.315934\n",
              "13    13  253.661180\n",
              "14    14  240.949246\n",
              "15    15  251.233196\n",
              "16    16  311.983562\n",
              "17    17  461.452055\n",
              "18    18  425.510989\n",
              "19    19  311.523352\n",
              "20    20  226.030220\n",
              "21    21  172.314560\n",
              "22    22  131.335165\n",
              "23    23   87.831044"
            ]
          },
          "metadata": {
            "tags": []
          }
        }
      ]
    },
    {
      "cell_type": "markdown",
      "metadata": {
        "id": "1SKLj_dEx1rM"
      },
      "source": [
        "**Questão 12 - Que dia da semana contém a maior média de locações de bicicletas?** R: 4\n",
        "\n",
        "**Questão 13 - Que dia da semana contém a menor média de locações de bicicletas?** R: 0"
      ]
    },
    {
      "cell_type": "code",
      "metadata": {
        "id": "mxWyl3o1x73L",
        "outputId": "08588b9d-60df-454c-9bdd-6ec5f50a5420",
        "colab": {
          "base_uri": "https://localhost:8080/",
          "height": 288
        }
      },
      "source": [
        "#Veja que continuamos a trabalhar com maiores e menores médias, porém de features diferentes... aproveitando o código temos:\n",
        "df_media_dia = df_bike.groupby(['weekday']).total_count.mean().reset_index(name='Media')\n",
        "\n",
        "print(f'Maior média é no {df_media_dia[df_media_dia.Media==df_media_dia.Media.max()].weekday.iloc[0]} dia da semana')\n",
        "print(f'Menor média é no {df_media_dia[df_media_dia.Media==df_media_dia.Media.min()].weekday.iloc[0]} dia da semana')\n",
        "display(df_media_dia) #funcao do notebook para \"printar\" o dataframe bonitinho\n"
      ],
      "execution_count": null,
      "outputs": [
        {
          "output_type": "stream",
          "text": [
            "Maior média é no 4 dia da semana\n",
            "Menor média é no 0 dia da semana\n"
          ],
          "name": "stdout"
        },
        {
          "output_type": "display_data",
          "data": {
            "text/html": [
              "<div>\n",
              "<style scoped>\n",
              "    .dataframe tbody tr th:only-of-type {\n",
              "        vertical-align: middle;\n",
              "    }\n",
              "\n",
              "    .dataframe tbody tr th {\n",
              "        vertical-align: top;\n",
              "    }\n",
              "\n",
              "    .dataframe thead th {\n",
              "        text-align: right;\n",
              "    }\n",
              "</style>\n",
              "<table border=\"1\" class=\"dataframe\">\n",
              "  <thead>\n",
              "    <tr style=\"text-align: right;\">\n",
              "      <th></th>\n",
              "      <th>weekday</th>\n",
              "      <th>Media</th>\n",
              "    </tr>\n",
              "  </thead>\n",
              "  <tbody>\n",
              "    <tr>\n",
              "      <th>0</th>\n",
              "      <td>0</td>\n",
              "      <td>177.468825</td>\n",
              "    </tr>\n",
              "    <tr>\n",
              "      <th>1</th>\n",
              "      <td>1</td>\n",
              "      <td>183.744655</td>\n",
              "    </tr>\n",
              "    <tr>\n",
              "      <th>2</th>\n",
              "      <td>2</td>\n",
              "      <td>191.238891</td>\n",
              "    </tr>\n",
              "    <tr>\n",
              "      <th>3</th>\n",
              "      <td>3</td>\n",
              "      <td>191.130505</td>\n",
              "    </tr>\n",
              "    <tr>\n",
              "      <th>4</th>\n",
              "      <td>4</td>\n",
              "      <td>196.436665</td>\n",
              "    </tr>\n",
              "    <tr>\n",
              "      <th>5</th>\n",
              "      <td>5</td>\n",
              "      <td>196.135907</td>\n",
              "    </tr>\n",
              "    <tr>\n",
              "      <th>6</th>\n",
              "      <td>6</td>\n",
              "      <td>190.209793</td>\n",
              "    </tr>\n",
              "  </tbody>\n",
              "</table>\n",
              "</div>"
            ],
            "text/plain": [
              "   weekday       Media\n",
              "0        0  177.468825\n",
              "1        1  183.744655\n",
              "2        2  191.238891\n",
              "3        3  191.130505\n",
              "4        4  196.436665\n",
              "5        5  196.135907\n",
              "6        6  190.209793"
            ]
          },
          "metadata": {
            "tags": []
          }
        }
      ]
    },
    {
      "cell_type": "markdown",
      "metadata": {
        "id": "s8j3ARGNy-YH"
      },
      "source": [
        "**Questão 14 - Às quartas-feiras (weekday = 3), qual o horário do dia contém a maior média de locações de bicicletas?** R: 17"
      ]
    },
    {
      "cell_type": "code",
      "metadata": {
        "id": "6k-2yHfbzCkE",
        "outputId": "f34cd1c5-e4f0-470d-c1db-ef1cf687dcfc",
        "colab": {
          "base_uri": "https://localhost:8080/",
          "height": 774
        }
      },
      "source": [
        "# É a mesma questão da média de locações com base no horário, só que agora ele quer apenas do weeday 3...\n",
        "# Então basta ajustarmos o código um pouco adicionando [df_bike.weekday==3] que irá separar apenas os dados do weekday = 3\n",
        "df_media_hora = df_bike[df_bike.weekday==3].groupby(['hour']).total_count.mean().reset_index(name='Media')\n",
        "\n",
        "print(f'Maior média é as {df_media_hora[df_media_hora.Media==df_media_hora.Media.max()].hour.iloc[0]} horas')\n",
        "display(df_media_hora) #funcao do notebook para \"printar\" o dataframe bonitinho"
      ],
      "execution_count": null,
      "outputs": [
        {
          "output_type": "stream",
          "text": [
            "Maior média é as 17 horas\n"
          ],
          "name": "stdout"
        },
        {
          "output_type": "display_data",
          "data": {
            "text/html": [
              "<div>\n",
              "<style scoped>\n",
              "    .dataframe tbody tr th:only-of-type {\n",
              "        vertical-align: middle;\n",
              "    }\n",
              "\n",
              "    .dataframe tbody tr th {\n",
              "        vertical-align: top;\n",
              "    }\n",
              "\n",
              "    .dataframe thead th {\n",
              "        text-align: right;\n",
              "    }\n",
              "</style>\n",
              "<table border=\"1\" class=\"dataframe\">\n",
              "  <thead>\n",
              "    <tr style=\"text-align: right;\">\n",
              "      <th></th>\n",
              "      <th>hour</th>\n",
              "      <th>Media</th>\n",
              "    </tr>\n",
              "  </thead>\n",
              "  <tbody>\n",
              "    <tr>\n",
              "      <th>0</th>\n",
              "      <td>0</td>\n",
              "      <td>34.557692</td>\n",
              "    </tr>\n",
              "    <tr>\n",
              "      <th>1</th>\n",
              "      <td>1</td>\n",
              "      <td>15.336538</td>\n",
              "    </tr>\n",
              "    <tr>\n",
              "      <th>2</th>\n",
              "      <td>2</td>\n",
              "      <td>7.813725</td>\n",
              "    </tr>\n",
              "    <tr>\n",
              "      <th>3</th>\n",
              "      <td>3</td>\n",
              "      <td>4.888889</td>\n",
              "    </tr>\n",
              "    <tr>\n",
              "      <th>4</th>\n",
              "      <td>4</td>\n",
              "      <td>4.968750</td>\n",
              "    </tr>\n",
              "    <tr>\n",
              "      <th>5</th>\n",
              "      <td>5</td>\n",
              "      <td>25.750000</td>\n",
              "    </tr>\n",
              "    <tr>\n",
              "      <th>6</th>\n",
              "      <td>6</td>\n",
              "      <td>107.807692</td>\n",
              "    </tr>\n",
              "    <tr>\n",
              "      <th>7</th>\n",
              "      <td>7</td>\n",
              "      <td>303.980769</td>\n",
              "    </tr>\n",
              "    <tr>\n",
              "      <th>8</th>\n",
              "      <td>8</td>\n",
              "      <td>488.326923</td>\n",
              "    </tr>\n",
              "    <tr>\n",
              "      <th>9</th>\n",
              "      <td>9</td>\n",
              "      <td>238.528846</td>\n",
              "    </tr>\n",
              "    <tr>\n",
              "      <th>10</th>\n",
              "      <td>10</td>\n",
              "      <td>131.894231</td>\n",
              "    </tr>\n",
              "    <tr>\n",
              "      <th>11</th>\n",
              "      <td>11</td>\n",
              "      <td>152.201923</td>\n",
              "    </tr>\n",
              "    <tr>\n",
              "      <th>12</th>\n",
              "      <td>12</td>\n",
              "      <td>193.903846</td>\n",
              "    </tr>\n",
              "    <tr>\n",
              "      <th>13</th>\n",
              "      <td>13</td>\n",
              "      <td>185.826923</td>\n",
              "    </tr>\n",
              "    <tr>\n",
              "      <th>14</th>\n",
              "      <td>14</td>\n",
              "      <td>170.548077</td>\n",
              "    </tr>\n",
              "    <tr>\n",
              "      <th>15</th>\n",
              "      <td>15</td>\n",
              "      <td>181.288462</td>\n",
              "    </tr>\n",
              "    <tr>\n",
              "      <th>16</th>\n",
              "      <td>16</td>\n",
              "      <td>272.961538</td>\n",
              "    </tr>\n",
              "    <tr>\n",
              "      <th>17</th>\n",
              "      <td>17</td>\n",
              "      <td>513.144231</td>\n",
              "    </tr>\n",
              "    <tr>\n",
              "      <th>18</th>\n",
              "      <td>18</td>\n",
              "      <td>494.029126</td>\n",
              "    </tr>\n",
              "    <tr>\n",
              "      <th>19</th>\n",
              "      <td>19</td>\n",
              "      <td>357.504854</td>\n",
              "    </tr>\n",
              "    <tr>\n",
              "      <th>20</th>\n",
              "      <td>20</td>\n",
              "      <td>256.660194</td>\n",
              "    </tr>\n",
              "    <tr>\n",
              "      <th>21</th>\n",
              "      <td>21</td>\n",
              "      <td>194.669903</td>\n",
              "    </tr>\n",
              "    <tr>\n",
              "      <th>22</th>\n",
              "      <td>22</td>\n",
              "      <td>143.689320</td>\n",
              "    </tr>\n",
              "    <tr>\n",
              "      <th>23</th>\n",
              "      <td>23</td>\n",
              "      <td>83.737864</td>\n",
              "    </tr>\n",
              "  </tbody>\n",
              "</table>\n",
              "</div>"
            ],
            "text/plain": [
              "    hour       Media\n",
              "0      0   34.557692\n",
              "1      1   15.336538\n",
              "2      2    7.813725\n",
              "3      3    4.888889\n",
              "4      4    4.968750\n",
              "5      5   25.750000\n",
              "6      6  107.807692\n",
              "7      7  303.980769\n",
              "8      8  488.326923\n",
              "9      9  238.528846\n",
              "10    10  131.894231\n",
              "11    11  152.201923\n",
              "12    12  193.903846\n",
              "13    13  185.826923\n",
              "14    14  170.548077\n",
              "15    15  181.288462\n",
              "16    16  272.961538\n",
              "17    17  513.144231\n",
              "18    18  494.029126\n",
              "19    19  357.504854\n",
              "20    20  256.660194\n",
              "21    21  194.669903\n",
              "22    22  143.689320\n",
              "23    23   83.737864"
            ]
          },
          "metadata": {
            "tags": []
          }
        }
      ]
    },
    {
      "cell_type": "markdown",
      "metadata": {
        "id": "eKu18DSQ0PD6"
      },
      "source": [
        "**Questão 15 - Aos sábados (weekday = 6), qual o horário do dia contém a maior média de locações de bicicletas?** R: 13"
      ]
    },
    {
      "cell_type": "code",
      "metadata": {
        "id": "UN-F4_UO0XXz",
        "outputId": "916de03a-69c2-42f8-9b74-a6396a0eef2f",
        "colab": {
          "base_uri": "https://localhost:8080/",
          "height": 774
        }
      },
      "source": [
        "# Identico ao caso anterior, apenas mudando o weekday de 3 pra 6\n",
        "df_media_hora = df_bike[df_bike.weekday==6].groupby(['hour']).total_count.mean().reset_index(name='Media')\n",
        "\n",
        "print(f'Maior média é as {df_media_hora[df_media_hora.Media==df_media_hora.Media.max()].hour.iloc[0]} horas')\n",
        "display(df_media_hora) #funcao do notebook para \"printar\" o dataframe bonitinho"
      ],
      "execution_count": null,
      "outputs": [
        {
          "output_type": "stream",
          "text": [
            "Maior média é as 13 horas\n"
          ],
          "name": "stdout"
        },
        {
          "output_type": "display_data",
          "data": {
            "text/html": [
              "<div>\n",
              "<style scoped>\n",
              "    .dataframe tbody tr th:only-of-type {\n",
              "        vertical-align: middle;\n",
              "    }\n",
              "\n",
              "    .dataframe tbody tr th {\n",
              "        vertical-align: top;\n",
              "    }\n",
              "\n",
              "    .dataframe thead th {\n",
              "        text-align: right;\n",
              "    }\n",
              "</style>\n",
              "<table border=\"1\" class=\"dataframe\">\n",
              "  <thead>\n",
              "    <tr style=\"text-align: right;\">\n",
              "      <th></th>\n",
              "      <th>hour</th>\n",
              "      <th>Media</th>\n",
              "    </tr>\n",
              "  </thead>\n",
              "  <tbody>\n",
              "    <tr>\n",
              "      <th>0</th>\n",
              "      <td>0</td>\n",
              "      <td>94.304762</td>\n",
              "    </tr>\n",
              "    <tr>\n",
              "      <th>1</th>\n",
              "      <td>1</td>\n",
              "      <td>67.780952</td>\n",
              "    </tr>\n",
              "    <tr>\n",
              "      <th>2</th>\n",
              "      <td>2</td>\n",
              "      <td>50.495238</td>\n",
              "    </tr>\n",
              "    <tr>\n",
              "      <th>3</th>\n",
              "      <td>3</td>\n",
              "      <td>22.885714</td>\n",
              "    </tr>\n",
              "    <tr>\n",
              "      <th>4</th>\n",
              "      <td>4</td>\n",
              "      <td>7.657143</td>\n",
              "    </tr>\n",
              "    <tr>\n",
              "      <th>5</th>\n",
              "      <td>5</td>\n",
              "      <td>8.291262</td>\n",
              "    </tr>\n",
              "    <tr>\n",
              "      <th>6</th>\n",
              "      <td>6</td>\n",
              "      <td>21.000000</td>\n",
              "    </tr>\n",
              "    <tr>\n",
              "      <th>7</th>\n",
              "      <td>7</td>\n",
              "      <td>45.961905</td>\n",
              "    </tr>\n",
              "    <tr>\n",
              "      <th>8</th>\n",
              "      <td>8</td>\n",
              "      <td>114.476190</td>\n",
              "    </tr>\n",
              "    <tr>\n",
              "      <th>9</th>\n",
              "      <td>9</td>\n",
              "      <td>186.790476</td>\n",
              "    </tr>\n",
              "    <tr>\n",
              "      <th>10</th>\n",
              "      <td>10</td>\n",
              "      <td>263.723810</td>\n",
              "    </tr>\n",
              "    <tr>\n",
              "      <th>11</th>\n",
              "      <td>11</td>\n",
              "      <td>328.609524</td>\n",
              "    </tr>\n",
              "    <tr>\n",
              "      <th>12</th>\n",
              "      <td>12</td>\n",
              "      <td>375.380952</td>\n",
              "    </tr>\n",
              "    <tr>\n",
              "      <th>13</th>\n",
              "      <td>13</td>\n",
              "      <td>385.371429</td>\n",
              "    </tr>\n",
              "    <tr>\n",
              "      <th>14</th>\n",
              "      <td>14</td>\n",
              "      <td>381.333333</td>\n",
              "    </tr>\n",
              "    <tr>\n",
              "      <th>15</th>\n",
              "      <td>15</td>\n",
              "      <td>382.428571</td>\n",
              "    </tr>\n",
              "    <tr>\n",
              "      <th>16</th>\n",
              "      <td>16</td>\n",
              "      <td>366.142857</td>\n",
              "    </tr>\n",
              "    <tr>\n",
              "      <th>17</th>\n",
              "      <td>17</td>\n",
              "      <td>334.409524</td>\n",
              "    </tr>\n",
              "    <tr>\n",
              "      <th>18</th>\n",
              "      <td>18</td>\n",
              "      <td>292.048077</td>\n",
              "    </tr>\n",
              "    <tr>\n",
              "      <th>19</th>\n",
              "      <td>19</td>\n",
              "      <td>239.932692</td>\n",
              "    </tr>\n",
              "    <tr>\n",
              "      <th>20</th>\n",
              "      <td>20</td>\n",
              "      <td>180.865385</td>\n",
              "    </tr>\n",
              "    <tr>\n",
              "      <th>21</th>\n",
              "      <td>21</td>\n",
              "      <td>156.000000</td>\n",
              "    </tr>\n",
              "    <tr>\n",
              "      <th>22</th>\n",
              "      <td>22</td>\n",
              "      <td>139.663462</td>\n",
              "    </tr>\n",
              "    <tr>\n",
              "      <th>23</th>\n",
              "      <td>23</td>\n",
              "      <td>115.855769</td>\n",
              "    </tr>\n",
              "  </tbody>\n",
              "</table>\n",
              "</div>"
            ],
            "text/plain": [
              "    hour       Media\n",
              "0      0   94.304762\n",
              "1      1   67.780952\n",
              "2      2   50.495238\n",
              "3      3   22.885714\n",
              "4      4    7.657143\n",
              "5      5    8.291262\n",
              "6      6   21.000000\n",
              "7      7   45.961905\n",
              "8      8  114.476190\n",
              "9      9  186.790476\n",
              "10    10  263.723810\n",
              "11    11  328.609524\n",
              "12    12  375.380952\n",
              "13    13  385.371429\n",
              "14    14  381.333333\n",
              "15    15  382.428571\n",
              "16    16  366.142857\n",
              "17    17  334.409524\n",
              "18    18  292.048077\n",
              "19    19  239.932692\n",
              "20    20  180.865385\n",
              "21    21  156.000000\n",
              "22    22  139.663462\n",
              "23    23  115.855769"
            ]
          },
          "metadata": {
            "tags": []
          }
        }
      ]
    }
  ]
}