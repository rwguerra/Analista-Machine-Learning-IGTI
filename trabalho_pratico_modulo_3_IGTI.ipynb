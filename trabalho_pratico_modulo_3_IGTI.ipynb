{
  "nbformat": 4,
  "nbformat_minor": 0,
  "metadata": {
    "colab": {
      "name": "trabalho_pratico_modulo_3_IGTI.ipynb",
      "provenance": [],
      "collapsed_sections": [
        "vA2L49P8OjGG",
        "6mOomBhTOrFH",
        "B1c284ZBPVZP",
        "KPXqznGPPlaR",
        "ItoqIl71QTDl",
        "bIDnHuGvQkXY",
        "HLtF6-HUQkmG",
        "XijqFHNBQkMv",
        "wNg0MDjYRHA9",
        "V3EjMuYLRGef",
        "uESG96WARL2P",
        "66foEReQROX7",
        "knv4RHd9RVHd",
        "VpdBMQZdRYL1",
        "x2_EEZXtRaQp",
        "ymNz36iHRc0p",
        "hq1ViC3URgVK"
      ],
      "toc_visible": true,
      "authorship_tag": "ABX9TyO0ZdYo+7KehZIwwD57wpsU",
      "include_colab_link": true
    },
    "kernelspec": {
      "name": "python3",
      "display_name": "Python 3"
    }
  },
  "cells": [
    {
      "cell_type": "markdown",
      "metadata": {
        "id": "view-in-github",
        "colab_type": "text"
      },
      "source": [
        "<a href=\"https://colab.research.google.com/github/rwguerra/Machine-Learning-Bootcamp-IGTI/blob/main/trabalho_pratico_modulo_3_IGTI.ipynb\" target=\"_parent\"><img src=\"https://colab.research.google.com/assets/colab-badge.svg\" alt=\"Open In Colab\"/></a>"
      ]
    },
    {
      "cell_type": "markdown",
      "metadata": {
        "id": "vA2L49P8OjGG"
      },
      "source": [
        "## 0.1. IMPORTS\n",
        "\n"
      ]
    },
    {
      "cell_type": "code",
      "metadata": {
        "id": "11R05B2sMYlD"
      },
      "source": [
        "import pandas as pd\n",
        "import numpy as np\n",
        "import matplotlib.pyplot as plt\n",
        "from sklearn.linear_model import LinearRegression\n",
        "from sklearn import metrics\n",
        "from sklearn.model_selection import train_test_split\n",
        "from sklearn.svm import SVC\n",
        "from sklearn.cluster import KMeans\n",
        "from sklearn.dummy import DummyClassifier"
      ],
      "execution_count": 7,
      "outputs": []
    },
    {
      "cell_type": "markdown",
      "metadata": {
        "id": "6mOomBhTOrFH"
      },
      "source": [
        "# 0.2. LOAD DATASETS"
      ]
    },
    {
      "cell_type": "code",
      "metadata": {
        "id": "8TQrR6W8O55W"
      },
      "source": [
        "df1 = pd.read_csv('/content/diabetes_numeric.csv') #REGRESSAO\n",
        "df2 = pd.read_csv('/content/bloodtransf.csv')      #CLASSIFICACAO\n",
        "df3 = pd.read_csv('/content/wine.csv')             #CLUSTERIZACAO"
      ],
      "execution_count": 9,
      "outputs": []
    },
    {
      "cell_type": "markdown",
      "metadata": {
        "id": "B1c284ZBPVZP"
      },
      "source": [
        "# 0.3. Questões"
      ]
    },
    {
      "cell_type": "markdown",
      "metadata": {
        "id": "KPXqznGPPlaR"
      },
      "source": [
        "### 1 - Sobre o número de atributos da base de regressão, marque a alternativa CORRETA: **A base tem 3 atributos.**"
      ]
    },
    {
      "cell_type": "code",
      "metadata": {
        "id": "ejZB80YNPME1",
        "outputId": "40ba56af-d66c-4230-fc40-31c820bd74e4",
        "colab": {
          "base_uri": "https://localhost:8080/",
          "height": 123
        }
      },
      "source": [
        "# temos 43 instâncias e 3 atributos\n",
        "print(df1.shape)\n",
        "df1.head(2)"
      ],
      "execution_count": null,
      "outputs": [
        {
          "output_type": "stream",
          "text": [
            "(43, 3)\n"
          ],
          "name": "stdout"
        },
        {
          "output_type": "execute_result",
          "data": {
            "text/html": [
              "<div>\n",
              "<style scoped>\n",
              "    .dataframe tbody tr th:only-of-type {\n",
              "        vertical-align: middle;\n",
              "    }\n",
              "\n",
              "    .dataframe tbody tr th {\n",
              "        vertical-align: top;\n",
              "    }\n",
              "\n",
              "    .dataframe thead th {\n",
              "        text-align: right;\n",
              "    }\n",
              "</style>\n",
              "<table border=\"1\" class=\"dataframe\">\n",
              "  <thead>\n",
              "    <tr style=\"text-align: right;\">\n",
              "      <th></th>\n",
              "      <th>age</th>\n",
              "      <th>deficit</th>\n",
              "      <th>c_peptide</th>\n",
              "    </tr>\n",
              "  </thead>\n",
              "  <tbody>\n",
              "    <tr>\n",
              "      <th>0</th>\n",
              "      <td>5.2</td>\n",
              "      <td>-8.1</td>\n",
              "      <td>4.8</td>\n",
              "    </tr>\n",
              "    <tr>\n",
              "      <th>1</th>\n",
              "      <td>8.8</td>\n",
              "      <td>-16.1</td>\n",
              "      <td>4.1</td>\n",
              "    </tr>\n",
              "  </tbody>\n",
              "</table>\n",
              "</div>"
            ],
            "text/plain": [
              "   age  deficit  c_peptide\n",
              "0  5.2     -8.1        4.8\n",
              "1  8.8    -16.1        4.1"
            ]
          },
          "metadata": {
            "tags": []
          },
          "execution_count": 9
        }
      ]
    },
    {
      "cell_type": "markdown",
      "metadata": {
        "id": "ItoqIl71QTDl"
      },
      "source": [
        "### 2 - Sobre o número de atributos da base de classificação, marque a alternativa CORRETA: **A base tem 748 instâncias.**\n"
      ]
    },
    {
      "cell_type": "code",
      "metadata": {
        "id": "aDgOkHh_P_-0",
        "outputId": "3806dcc6-6f17-416c-f42b-ae276c5a632c",
        "colab": {
          "base_uri": "https://localhost:8080/",
          "height": 123
        }
      },
      "source": [
        "# temos 748 instâncias e 5 atributos\n",
        "print(df2.shape)\n",
        "df2.head(2)"
      ],
      "execution_count": null,
      "outputs": [
        {
          "output_type": "stream",
          "text": [
            "(748, 5)\n"
          ],
          "name": "stdout"
        },
        {
          "output_type": "execute_result",
          "data": {
            "text/html": [
              "<div>\n",
              "<style scoped>\n",
              "    .dataframe tbody tr th:only-of-type {\n",
              "        vertical-align: middle;\n",
              "    }\n",
              "\n",
              "    .dataframe tbody tr th {\n",
              "        vertical-align: top;\n",
              "    }\n",
              "\n",
              "    .dataframe thead th {\n",
              "        text-align: right;\n",
              "    }\n",
              "</style>\n",
              "<table border=\"1\" class=\"dataframe\">\n",
              "  <thead>\n",
              "    <tr style=\"text-align: right;\">\n",
              "      <th></th>\n",
              "      <th>V1</th>\n",
              "      <th>V2</th>\n",
              "      <th>V3</th>\n",
              "      <th>V4</th>\n",
              "      <th>Class</th>\n",
              "    </tr>\n",
              "  </thead>\n",
              "  <tbody>\n",
              "    <tr>\n",
              "      <th>0</th>\n",
              "      <td>2</td>\n",
              "      <td>50</td>\n",
              "      <td>12500</td>\n",
              "      <td>98</td>\n",
              "      <td>2</td>\n",
              "    </tr>\n",
              "    <tr>\n",
              "      <th>1</th>\n",
              "      <td>0</td>\n",
              "      <td>13</td>\n",
              "      <td>3250</td>\n",
              "      <td>28</td>\n",
              "      <td>2</td>\n",
              "    </tr>\n",
              "  </tbody>\n",
              "</table>\n",
              "</div>"
            ],
            "text/plain": [
              "   V1  V2     V3  V4  Class\n",
              "0   2  50  12500  98      2\n",
              "1   0  13   3250  28      2"
            ]
          },
          "metadata": {
            "tags": []
          },
          "execution_count": 10
        }
      ]
    },
    {
      "cell_type": "markdown",
      "metadata": {
        "id": "bIDnHuGvQkXY"
      },
      "source": [
        "### 3 - Sobre a base de clusterização, marque a alternativa CORRETA: **A base tem 178 instâncias divididas em 3 classes.**"
      ]
    },
    {
      "cell_type": "code",
      "metadata": {
        "id": "WEd7rx9xRlqB",
        "outputId": "5369bbbe-8fca-412b-d7f5-0cff7b748c6d",
        "colab": {
          "base_uri": "https://localhost:8080/"
        }
      },
      "source": [
        "# temos 748 instâncias e 5 atributos\n",
        "print(df3.shape)\n",
        "size = len(df3['class'].unique())\n",
        "print(f'Quantidade de classes = {size}')\n",
        "df3.head(2)"
      ],
      "execution_count": null,
      "outputs": [
        {
          "output_type": "stream",
          "text": [
            "(178, 14)\n",
            "Quantidade de classes = 3\n"
          ],
          "name": "stdout"
        },
        {
          "output_type": "execute_result",
          "data": {
            "text/html": [
              "<div>\n",
              "<style scoped>\n",
              "    .dataframe tbody tr th:only-of-type {\n",
              "        vertical-align: middle;\n",
              "    }\n",
              "\n",
              "    .dataframe tbody tr th {\n",
              "        vertical-align: top;\n",
              "    }\n",
              "\n",
              "    .dataframe thead th {\n",
              "        text-align: right;\n",
              "    }\n",
              "</style>\n",
              "<table border=\"1\" class=\"dataframe\">\n",
              "  <thead>\n",
              "    <tr style=\"text-align: right;\">\n",
              "      <th></th>\n",
              "      <th>class</th>\n",
              "      <th>Alcohol</th>\n",
              "      <th>Malic_acid</th>\n",
              "      <th>Ash</th>\n",
              "      <th>Alcalinity_of_ash</th>\n",
              "      <th>Magnesium</th>\n",
              "      <th>Total_phenols</th>\n",
              "      <th>Flavanoids</th>\n",
              "      <th>Nonflavanoid_phenols</th>\n",
              "      <th>Proanthocyanins</th>\n",
              "      <th>Color_intensity</th>\n",
              "      <th>Hue</th>\n",
              "      <th>OD280%2FOD315_of_diluted_wines</th>\n",
              "      <th>Proline</th>\n",
              "    </tr>\n",
              "  </thead>\n",
              "  <tbody>\n",
              "    <tr>\n",
              "      <th>0</th>\n",
              "      <td>1</td>\n",
              "      <td>14.23</td>\n",
              "      <td>1.71</td>\n",
              "      <td>2.43</td>\n",
              "      <td>15.6</td>\n",
              "      <td>127</td>\n",
              "      <td>2.80</td>\n",
              "      <td>3.06</td>\n",
              "      <td>0.28</td>\n",
              "      <td>2.29</td>\n",
              "      <td>5.64</td>\n",
              "      <td>1.04</td>\n",
              "      <td>3.92</td>\n",
              "      <td>1065</td>\n",
              "    </tr>\n",
              "    <tr>\n",
              "      <th>1</th>\n",
              "      <td>1</td>\n",
              "      <td>13.20</td>\n",
              "      <td>1.78</td>\n",
              "      <td>2.14</td>\n",
              "      <td>11.2</td>\n",
              "      <td>100</td>\n",
              "      <td>2.65</td>\n",
              "      <td>2.76</td>\n",
              "      <td>0.26</td>\n",
              "      <td>1.28</td>\n",
              "      <td>4.38</td>\n",
              "      <td>1.05</td>\n",
              "      <td>3.40</td>\n",
              "      <td>1050</td>\n",
              "    </tr>\n",
              "  </tbody>\n",
              "</table>\n",
              "</div>"
            ],
            "text/plain": [
              "   class  Alcohol  Malic_acid  ...   Hue  OD280%2FOD315_of_diluted_wines  Proline\n",
              "0      1    14.23        1.71  ...  1.04                            3.92     1065\n",
              "1      1    13.20        1.78  ...  1.05                            3.40     1050\n",
              "\n",
              "[2 rows x 14 columns]"
            ]
          },
          "metadata": {
            "tags": []
          },
          "execution_count": 71
        }
      ]
    },
    {
      "cell_type": "markdown",
      "metadata": {
        "id": "HLtF6-HUQkmG"
      },
      "source": [
        "### 4 - Sobre dados faltantes, marque a alternativa CORRETA: **Nenhuma base tem dados faltantes.**"
      ]
    },
    {
      "cell_type": "code",
      "metadata": {
        "id": "-UL1XGMLTHR1",
        "outputId": "4d10c4ca-b429-4aef-d95c-d7dd34e12ca0",
        "colab": {
          "base_uri": "https://localhost:8080/",
          "height": 874
        }
      },
      "source": [
        "#diabetes\n",
        "print(df1.shape)\n",
        "display(df1.info())\n",
        "print('---------------------------------------------------')\n",
        "\n",
        "#blood\n",
        "print(df2.shape)\n",
        "display(df2.info())\n",
        "print('---------------------------------------------------')\n",
        "\n",
        "#wine\n",
        "print(df3.shape)\n",
        "display(df3.info())"
      ],
      "execution_count": null,
      "outputs": [
        {
          "output_type": "stream",
          "text": [
            "(43, 3)\n",
            "<class 'pandas.core.frame.DataFrame'>\n",
            "RangeIndex: 43 entries, 0 to 42\n",
            "Data columns (total 3 columns):\n",
            " #   Column     Non-Null Count  Dtype  \n",
            "---  ------     --------------  -----  \n",
            " 0   age        43 non-null     float64\n",
            " 1   deficit    43 non-null     float64\n",
            " 2   c_peptide  43 non-null     float64\n",
            "dtypes: float64(3)\n",
            "memory usage: 1.1 KB\n"
          ],
          "name": "stdout"
        },
        {
          "output_type": "display_data",
          "data": {
            "text/plain": [
              "None"
            ]
          },
          "metadata": {
            "tags": []
          }
        },
        {
          "output_type": "stream",
          "text": [
            "---------------------------------------------------\n",
            "(748, 5)\n",
            "<class 'pandas.core.frame.DataFrame'>\n",
            "RangeIndex: 748 entries, 0 to 747\n",
            "Data columns (total 5 columns):\n",
            " #   Column  Non-Null Count  Dtype\n",
            "---  ------  --------------  -----\n",
            " 0   V1      748 non-null    int64\n",
            " 1   V2      748 non-null    int64\n",
            " 2   V3      748 non-null    int64\n",
            " 3   V4      748 non-null    int64\n",
            " 4   Class   748 non-null    int64\n",
            "dtypes: int64(5)\n",
            "memory usage: 29.3 KB\n"
          ],
          "name": "stdout"
        },
        {
          "output_type": "display_data",
          "data": {
            "text/plain": [
              "None"
            ]
          },
          "metadata": {
            "tags": []
          }
        },
        {
          "output_type": "stream",
          "text": [
            "---------------------------------------------------\n",
            "(178, 14)\n",
            "<class 'pandas.core.frame.DataFrame'>\n",
            "RangeIndex: 178 entries, 0 to 177\n",
            "Data columns (total 14 columns):\n",
            " #   Column                          Non-Null Count  Dtype  \n",
            "---  ------                          --------------  -----  \n",
            " 0   class                           178 non-null    int64  \n",
            " 1   Alcohol                         178 non-null    float64\n",
            " 2   Malic_acid                      178 non-null    float64\n",
            " 3   Ash                             178 non-null    float64\n",
            " 4   Alcalinity_of_ash               178 non-null    float64\n",
            " 5   Magnesium                       178 non-null    int64  \n",
            " 6   Total_phenols                   178 non-null    float64\n",
            " 7   Flavanoids                      178 non-null    float64\n",
            " 8   Nonflavanoid_phenols            178 non-null    float64\n",
            " 9   Proanthocyanins                 178 non-null    float64\n",
            " 10  Color_intensity                 178 non-null    float64\n",
            " 11  Hue                             178 non-null    float64\n",
            " 12  OD280%2FOD315_of_diluted_wines  178 non-null    float64\n",
            " 13  Proline                         178 non-null    int64  \n",
            "dtypes: float64(11), int64(3)\n",
            "memory usage: 19.6 KB\n"
          ],
          "name": "stdout"
        },
        {
          "output_type": "display_data",
          "data": {
            "text/plain": [
              "None"
            ]
          },
          "metadata": {
            "tags": []
          }
        }
      ]
    },
    {
      "cell_type": "markdown",
      "metadata": {
        "id": "XijqFHNBQkMv"
      },
      "source": [
        "### 5 - Em relação a modelagem utilizando a regressão linear, marque a alternativa CORRETA sobre a métrica r2: **O r2 encontrado é aproximadamente 0.22.**\n"
      ]
    },
    {
      "cell_type": "code",
      "metadata": {
        "id": "RdR4gPYbUBi7"
      },
      "source": [
        "# separa treino e teste\n",
        "X_train, X_test, y_train, y_test = train_test_split(df1.iloc[:,0:2], df1.iloc[:,2:3], test_size=0.25, random_state=42)"
      ],
      "execution_count": null,
      "outputs": []
    },
    {
      "cell_type": "code",
      "metadata": {
        "id": "dlgdO3hYVuK7",
        "outputId": "136bbbc9-7dfe-479b-8f0f-7a8116dbcea9",
        "colab": {
          "base_uri": "https://localhost:8080/",
          "height": 34
        }
      },
      "source": [
        "regr = LinearRegression()\n",
        "regr.fit(X_train,y_train)\n",
        "diabetes_y_pred = regr.predict(X_test)\n",
        "print(f'Coefficient of determination: {round(metrics.r2_score(y_test, diabetes_y_pred),2)}')"
      ],
      "execution_count": null,
      "outputs": [
        {
          "output_type": "stream",
          "text": [
            "Coefficient of determination: 0.22\n"
          ],
          "name": "stdout"
        }
      ]
    },
    {
      "cell_type": "markdown",
      "metadata": {
        "id": "wNg0MDjYRHA9"
      },
      "source": [
        "### 6 - Em relação a modelagem utilizando a regressão linear, marque a alternativa CORRETA sobre a métrica MAE: **O MAE encontrado é aproximadamente 0.61.**"
      ]
    },
    {
      "cell_type": "code",
      "metadata": {
        "id": "-Y6C0_t7WwlK",
        "outputId": "fc9c5334-869e-402d-bfa0-8728ae3bd511",
        "colab": {
          "base_uri": "https://localhost:8080/",
          "height": 34
        }
      },
      "source": [
        "print(f'Mean Absolute Error: {round(metrics.mean_absolute_error(y_test, diabetes_y_pred),2)}')"
      ],
      "execution_count": null,
      "outputs": [
        {
          "output_type": "stream",
          "text": [
            "Mean Absolute Error: 0.61\n"
          ],
          "name": "stdout"
        }
      ]
    },
    {
      "cell_type": "markdown",
      "metadata": {
        "id": "V3EjMuYLRGef"
      },
      "source": [
        "### 7 - Em relação a modelagem utilizando a regressão linear, marque a alternativa CORRETA sobre a métrica MSE: **O MSE encontrado é aproximadamente 0.47.**"
      ]
    },
    {
      "cell_type": "code",
      "metadata": {
        "id": "J1nhx-mYXEqT",
        "outputId": "93f00a5d-d3e9-4121-b25a-9b9a60d34a1e",
        "colab": {
          "base_uri": "https://localhost:8080/",
          "height": 34
        }
      },
      "source": [
        "print(f'Mean Squared Error: {round(metrics.mean_squared_error(y_test, diabetes_y_pred),2)}')"
      ],
      "execution_count": null,
      "outputs": [
        {
          "output_type": "stream",
          "text": [
            "Mean Squared Error: 0.47\n"
          ],
          "name": "stdout"
        }
      ]
    },
    {
      "cell_type": "markdown",
      "metadata": {
        "id": "uESG96WARL2P"
      },
      "source": [
        "### 8 - Em relação a modelagem utilizando o SVM, marque a alternativa CORRETA sobre a métrica acurácia: **A acurácia encontrada é aproximadamente 0.75.**"
      ]
    },
    {
      "cell_type": "code",
      "metadata": {
        "id": "zlIrDxZaXM_I",
        "outputId": "83840737-f5dd-47a0-816b-1d27ad78b00a",
        "colab": {
          "base_uri": "https://localhost:8080/",
          "height": 138
        }
      },
      "source": [
        "# separa treino e teste\n",
        "X_train, X_test, y_train, y_test = train_test_split(df2.iloc[:,0:4], df2.iloc[:,4:5], test_size=0.25, random_state=42)\n",
        "clf = SVC()\n",
        "clf.fit(X_train,y_train)"
      ],
      "execution_count": 10,
      "outputs": [
        {
          "output_type": "stream",
          "text": [
            "/usr/local/lib/python3.6/dist-packages/sklearn/utils/validation.py:760: DataConversionWarning: A column-vector y was passed when a 1d array was expected. Please change the shape of y to (n_samples, ), for example using ravel().\n",
            "  y = column_or_1d(y, warn=True)\n"
          ],
          "name": "stderr"
        },
        {
          "output_type": "execute_result",
          "data": {
            "text/plain": [
              "SVC(C=1.0, break_ties=False, cache_size=200, class_weight=None, coef0=0.0,\n",
              "    decision_function_shape='ovr', degree=3, gamma='scale', kernel='rbf',\n",
              "    max_iter=-1, probability=False, random_state=None, shrinking=True,\n",
              "    tol=0.001, verbose=False)"
            ]
          },
          "metadata": {
            "tags": []
          },
          "execution_count": 10
        }
      ]
    },
    {
      "cell_type": "code",
      "metadata": {
        "id": "-Xr4A0IYZI38",
        "outputId": "8825dcfd-e67c-4f35-ecac-5afe3381d890",
        "colab": {
          "base_uri": "https://localhost:8080/",
          "height": 34
        }
      },
      "source": [
        "blood_y_pred = clf.predict(X_test)\n",
        "round(metrics.accuracy_score(y_test, blood_y_pred),2)"
      ],
      "execution_count": 12,
      "outputs": [
        {
          "output_type": "execute_result",
          "data": {
            "text/plain": [
              "0.75"
            ]
          },
          "metadata": {
            "tags": []
          },
          "execution_count": 12
        }
      ]
    },
    {
      "cell_type": "markdown",
      "metadata": {
        "id": "66foEReQROX7"
      },
      "source": [
        "### 9 - Em relação a modelagem utilizando o SVM, marque a alternativa CORRETA sobre as métricas precision e recall: **Os valores de precision e recall encontrados são aproximadamente 1.0 e 0.02, respectivamente.**"
      ]
    },
    {
      "cell_type": "code",
      "metadata": {
        "id": "aZAdI1KpZ4GE",
        "outputId": "7b64cdb1-e09e-4704-934d-5ce02b6f5c69",
        "colab": {
          "base_uri": "https://localhost:8080/",
          "height": 235
        }
      },
      "source": [
        "print(metrics.classification_report(y_test, blood_y_pred))\n",
        "print(metrics.confusion_matrix(y_test, blood_y_pred))"
      ],
      "execution_count": null,
      "outputs": [
        {
          "output_type": "stream",
          "text": [
            "0.7473118279569892\n",
            "1.0\n",
            "              precision    recall  f1-score   support\n",
            "\n",
            "           1       0.75      1.00      0.86       139\n",
            "           2       1.00      0.02      0.04        48\n",
            "\n",
            "    accuracy                           0.75       187\n",
            "   macro avg       0.87      0.51      0.45       187\n",
            "weighted avg       0.81      0.75      0.65       187\n",
            "\n",
            "[[139   0]\n",
            " [ 47   1]]\n"
          ],
          "name": "stdout"
        }
      ]
    },
    {
      "cell_type": "markdown",
      "metadata": {
        "id": "AQrplGvHRTMX"
      },
      "source": [
        "### 10 - Em relação a modelagem utilizando o SVM, marque a alternativa CORRETA sobre a métrica f1: **A f1 encontrada é aproximadamente 0.04.**"
      ]
    },
    {
      "cell_type": "code",
      "metadata": {
        "id": "SYas-ZkRdTIY"
      },
      "source": [
        "print(metrics.classification_report(y_test, blood_y_pred))\n",
        "print(metrics.confusion_matrix(y_test, blood_y_pred))"
      ],
      "execution_count": null,
      "outputs": []
    },
    {
      "cell_type": "markdown",
      "metadata": {
        "id": "knv4RHd9RVHd"
      },
      "source": [
        "### 11 - Em relação a modelagem utilizando o SVM, marque a alternativa CORRETA sobre a métrica AUROC: **A AUROC encontrada é aproximadamente 0.51, indicando que o modelo apresenta um resultado próximo de uma baseline aleatório.**"
      ]
    },
    {
      "cell_type": "code",
      "metadata": {
        "id": "U94C9Db6dZxX",
        "outputId": "01e0d87b-7161-47e0-ebeb-64e893b9044d",
        "colab": {
          "base_uri": "https://localhost:8080/",
          "height": 628
        }
      },
      "source": [
        "dummy = DummyClassifier()\n",
        "dummy.fit(X_train,y_train)\n",
        "dummy_y = dummy.predict(X_test)\n",
        "\n",
        "print(metrics.roc_auc_score(y_test, dummy_y))\n",
        "print(metrics.roc_auc_score(y_test, blood_y_pred))\n",
        "metrics.plot_roc_curve(dummy, X_test, dummy_y)\n",
        "metrics.plot_roc_curve(clf, X_test, y_test)\n",
        "plt.show()"
      ],
      "execution_count": 15,
      "outputs": [
        {
          "output_type": "stream",
          "text": [
            "0.4441696642685852\n",
            "0.5104166666666666\n"
          ],
          "name": "stdout"
        },
        {
          "output_type": "stream",
          "text": [
            "/usr/local/lib/python3.6/dist-packages/sklearn/dummy.py:132: FutureWarning: The default value of strategy will change from stratified to prior in 0.24.\n",
            "  \"stratified to prior in 0.24.\", FutureWarning)\n"
          ],
          "name": "stderr"
        },
        {
          "output_type": "display_data",
          "data": {
            "image/png": "[encoded data removed]",
            "text/plain": [
              "<Figure size 432x288 with 1 Axes>"
            ]
          },
          "metadata": {
            "tags": [],
            "needs_background": "light"
          }
        },
        {
          "output_type": "display_data",
          "data": {
            "image/png": "[encoded data removed]",
            "text/plain": [
              "<Figure size 432x288 with 1 Axes>"
            ]
          },
          "metadata": {
            "tags": [],
            "needs_background": "light"
          }
        }
      ]
    },
    {
      "cell_type": "markdown",
      "metadata": {
        "id": "VpdBMQZdRYL1"
      },
      "source": [
        "### 12 - Em relação a modelagem utilizando o Kmeans, marque a alternativa CORRETA sobre o número de clusters:"
      ]
    },
    {
      "cell_type": "code",
      "metadata": {
        "id": "hX0rnui0fIvH",
        "outputId": "c4874fe7-dd76-46fa-d07c-bca920956699",
        "colab": {
          "base_uri": "https://localhost:8080/",
          "height": 0
        }
      },
      "source": [
        "# nesse caso, como já sabemos de antemão a quantidade de classes existentes, talvez a resposta seja essa\n",
        "len(df3['class'].unique())"
      ],
      "execution_count": 17,
      "outputs": [
        {
          "output_type": "execute_result",
          "data": {
            "text/plain": [
              "3"
            ]
          },
          "metadata": {
            "tags": []
          },
          "execution_count": 17
        }
      ]
    },
    {
      "cell_type": "code",
      "metadata": {
        "id": "7TarLNrUndXs",
        "outputId": "484efa2e-0d90-4ab0-b178-d0d68f8f3a53",
        "colab": {
          "base_uri": "https://localhost:8080/",
          "height": 0
        }
      },
      "source": [
        "## Utilizando o método do cotovelo para ver se achamos o melhor valor de K\n",
        "from scipy.spatial.distance import cdist\n",
        "# k means determine k\n",
        "X = df3.iloc[:,1:14]\n",
        "distortions = []\n",
        "K = range(1,12,1)\n",
        "for k in K:\n",
        "    kmeanModel = KMeans(n_clusters=k).fit(X)\n",
        "    kmeanModel.fit(X)\n",
        "    distortions.append(kmeanModel.inertia_)\n",
        "\n",
        "# Plot the elbow\n",
        "plt.plot(K, distortions, 'bx-')\n",
        "plt.xlabel('k')\n",
        "plt.ylabel('SSE')\n",
        "plt.title('The Elbow Method showing the optimal k')\n",
        "plt.show()"
      ],
      "execution_count": 18,
      "outputs": [
        {
          "output_type": "display_data",
          "data": {
            "image/png": "[encoded data removed]",
            "text/plain": [
              "<Figure size 432x288 with 1 Axes>"
            ]
          },
          "metadata": {
            "tags": [],
            "needs_background": "light"
          }
        }
      ]
    },
    {
      "cell_type": "markdown",
      "metadata": {
        "id": "x2_EEZXtRaQp"
      },
      "source": [
        "### 13 - Em relação a modelagem utilizando o Kmeans, marque a alternativa CORRETA sobre a métrica Coeficiente de Silhueta: **O coeficiente de silhueta encontrado é aproximadamente 0.55.**"
      ]
    },
    {
      "cell_type": "code",
      "metadata": {
        "id": "YqGdtlk8JkHw"
      },
      "source": [
        "name_to_class = {1: 0, 2: 1, 3: 2}\n",
        "#substituindo os valores categóricos pelo mapeamento\n",
        "df3['class'] = df3['class'].map(name_to_class)\n",
        "\n",
        "X_train, X_test, y_train, y_test = train_test_split(df3.iloc[:,1:14], df3.iloc[:,0:1], test_size=0.25, random_state=42)"
      ],
      "execution_count": 19,
      "outputs": []
    },
    {
      "cell_type": "code",
      "metadata": {
        "id": "uwK0gjEarnpu",
        "outputId": "0255defe-30fd-487a-d1b7-eb944fd6dd3e",
        "colab": {
          "base_uri": "https://localhost:8080/",
          "height": 50
        }
      },
      "source": [
        "clustering = KMeans(n_clusters = 3, random_state = 42)\n",
        "clustering.fit(X_train);\n",
        "predictions1_labels = clustering.predict(X_test)\n",
        "print('Coeficiente de Silhueta\\n', round(metrics.silhouette_score(X_test, predictions1_labels),2)) "
      ],
      "execution_count": 20,
      "outputs": [
        {
          "output_type": "stream",
          "text": [
            "Coeficiente de Silhueta\n",
            " 0.55\n"
          ],
          "name": "stdout"
        }
      ]
    },
    {
      "cell_type": "markdown",
      "metadata": {
        "id": "ymNz36iHRc0p"
      },
      "source": [
        "### 14 - Em relação a modelagem utilizando o Kmeans, marque a alternativa CORRETA sobre a métrica Davies-Bouldin Score: **O Davies-Bouldin Score encontrado é aproximadamente 0.54.**"
      ]
    },
    {
      "cell_type": "code",
      "metadata": {
        "id": "EGQWYREGKjF0"
      },
      "source": [
        ""
      ],
      "execution_count": 20,
      "outputs": []
    },
    {
      "cell_type": "code",
      "metadata": {
        "id": "CTFeh357KaEH",
        "outputId": "f062a4b1-4f16-43f1-9ffe-b43dee9148c1",
        "colab": {
          "base_uri": "https://localhost:8080/",
          "height": 0
        }
      },
      "source": [
        "print('\\nDavies-Bouldin Score\\n', round(metrics.davies_bouldin_score(X_test, predictions1_labels),2)) "
      ],
      "execution_count": 21,
      "outputs": [
        {
          "output_type": "stream",
          "text": [
            "\n",
            "Davies-Bouldin Score\n",
            " 0.54\n"
          ],
          "name": "stdout"
        }
      ]
    },
    {
      "cell_type": "markdown",
      "metadata": {
        "id": "hq1ViC3URgVK"
      },
      "source": [
        "### 15 - Em relação a modelagem utilizando o Kmeans, marque a alternativa CORRETA sobre a métrica Mutual information: **O Mutual information encontrado é aproximadamente 0.53.**"
      ]
    },
    {
      "cell_type": "code",
      "metadata": {
        "id": "3OYeOS6IvIxi",
        "outputId": "d2b19471-ba5c-451c-a73a-c69f25c87e76",
        "colab": {
          "base_uri": "https://localhost:8080/",
          "height": 67
        }
      },
      "source": [
        "import itertools\n",
        "y_certo = np.array(list(itertools.chain.from_iterable(y_test.values)))\n",
        "print('\\nMutual information\\n', round(metrics.mutual_info_score(y_certo, predictions1_labels),2)) "
      ],
      "execution_count": 39,
      "outputs": [
        {
          "output_type": "stream",
          "text": [
            "\n",
            "Mutual information\n",
            " 0.53\n"
          ],
          "name": "stdout"
        }
      ]
    }
  ]
}